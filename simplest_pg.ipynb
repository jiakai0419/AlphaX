{
 "cells": [
  {
   "cell_type": "code",
   "execution_count": null,
   "metadata": {},
   "outputs": [],
   "source": [
    "import tensorflow as tf\n",
    "import numpy as np\n",
    "import gym\n",
    "import time\n",
    "\n",
    "from tensorflow.keras import layers"
   ]
  },
  {
   "cell_type": "code",
   "execution_count": null,
   "metadata": {},
   "outputs": [],
   "source": [
    "# 2.3.0\n",
    "tf.__version__"
   ]
  },
  {
   "cell_type": "code",
   "execution_count": null,
   "metadata": {},
   "outputs": [],
   "source": [
    "# 0.17.3\n",
    "gym.__version__"
   ]
  },
  {
   "cell_type": "code",
   "execution_count": null,
   "metadata": {},
   "outputs": [],
   "source": [
    "env = gym.make('CartPole-v0')\n",
    "obs_dim = env.observation_space.shape[0]\n",
    "action_num = env.action_space.n\n",
    "\n",
    "print('obs_dim', obs_dim)\n",
    "print('action_num', action_num)"
   ]
  },
  {
   "cell_type": "code",
   "execution_count": null,
   "metadata": {},
   "outputs": [],
   "source": [
    "RENDER = False"
   ]
  },
  {
   "cell_type": "code",
   "execution_count": null,
   "metadata": {},
   "outputs": [],
   "source": [
    "policy = tf.keras.Sequential([\n",
    "  layers.Dense(32, activation='tanh'),\n",
    "  layers.Dense(action_num)\n",
    "])\n",
    "\n",
    "optimizer=tf.optimizers.Adam(learning_rate=1e-2)"
   ]
  },
  {
   "cell_type": "code",
   "execution_count": null,
   "metadata": {},
   "outputs": [],
   "source": [
    "def reward_to_go(rewards):\n",
    "    n = len(rewards)\n",
    "    returns = np.zeros_like(rewards)\n",
    "    for i in reversed(range(n)):\n",
    "        returns[i] = rewards[i] + (returns[i+1] if i+1 < n else 0)\n",
    "    return returns"
   ]
  },
  {
   "cell_type": "code",
   "execution_count": null,
   "metadata": {},
   "outputs": [],
   "source": [
    "def train_one_episode():\n",
    "    ep_obs = []\n",
    "    ep_action = []\n",
    "    ep_reward = []\n",
    "    ep_log_prob = []\n",
    "    \n",
    "    with tf.GradientTape() as tape:\n",
    "        obs = env.reset()\n",
    "        \n",
    "        while True:\n",
    "            if RENDER:\n",
    "                env.render()\n",
    "            ep_obs.append(obs.copy())\n",
    "\n",
    "            logits = policy(tf.expand_dims(obs, 0))\n",
    "            log_prob = tf.nn.log_softmax(logits)\n",
    "            action = tf.squeeze(tf.random.categorical(logits, 1, seed=None), axis=1)[0]\n",
    "\n",
    "            obs, reward, done, _ = env.step(action.numpy())\n",
    "\n",
    "            ep_action.append(action)\n",
    "            ep_reward.append(reward)\n",
    "            ep_log_prob.append(log_prob)\n",
    "\n",
    "            if done:\n",
    "                break\n",
    "        \n",
    "        ep_return = reward_to_go(ep_reward)  # [batch_size]\n",
    "        action_mask = tf.one_hot(ep_action, action_num)  # [batch_size, 2]\n",
    "        log_probs = tf.reduce_sum(action_mask * tf.concat(ep_log_prob, axis=0), axis=1)  # [batch_size]\n",
    "        loss = -tf.reduce_mean(ep_return * log_probs)\n",
    "        \n",
    "    grads = tape.gradient(loss, policy.trainable_variables)\n",
    "    optimizer.apply_gradients(zip(grads, policy.trainable_variables))\n",
    "    \n",
    "    return sum(ep_reward), len(ep_reward)"
   ]
  },
  {
   "cell_type": "code",
   "execution_count": null,
   "metadata": {
    "scrolled": true
   },
   "outputs": [],
   "source": [
    "results = [0] * 100\n",
    "i = 0\n",
    "while True:\n",
    "    total_rewards, episode_len = train_one_episode()\n",
    "    results[i % 100] = total_rewards\n",
    "    print('i:{}, total_rewards:{}, episode_len:{}, avg_results:{}'.format(i, total_rewards, episode_len, np.average(results)))\n",
    "    i += 1\n",
    "    if 195.0 <= np.average(results):\n",
    "        print('congratulations!')\n",
    "        break"
   ]
  },
  {
   "cell_type": "code",
   "execution_count": null,
   "metadata": {},
   "outputs": [],
   "source": [
    "for i in range(10):\n",
    "    total_rewards = 0\n",
    "    obs = env.reset()\n",
    "    while True:\n",
    "        env.render()\n",
    "        logits = policy(tf.expand_dims(obs, 0))\n",
    "        action = tf.squeeze(tf.random.categorical(logits, 1, seed=None), axis=1)[0]\n",
    "        obs, reward, done, _ = env.step(action.numpy())\n",
    "        total_rewards += reward\n",
    "        if done:\n",
    "            break\n",
    "    print('i:{}, total_rewards:{}'.format(i, total_rewards))\n",
    "    time.sleep(3)"
   ]
  },
  {
   "cell_type": "code",
   "execution_count": null,
   "metadata": {},
   "outputs": [],
   "source": [
    "env.close()"
   ]
  }
 ],
 "metadata": {
  "kernelspec": {
   "display_name": "TF 2.3.0",
   "language": "python",
   "name": "python3"
  },
  "language_info": {
   "codemirror_mode": {
    "name": "ipython",
    "version": 3
   },
   "file_extension": ".py",
   "mimetype": "text/x-python",
   "name": "python",
   "nbconvert_exporter": "python",
   "pygments_lexer": "ipython3",
   "version": "3.8.5"
  }
 },
 "nbformat": 4,
 "nbformat_minor": 4
}
